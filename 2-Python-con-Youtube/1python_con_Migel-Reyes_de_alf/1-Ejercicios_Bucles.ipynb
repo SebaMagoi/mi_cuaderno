{
 "cells": [
  {
   "cell_type": "markdown",
   "metadata": {},
   "source": [
    "###  \tEjercicios de Bucles"
   ]
  },
  {
   "cell_type": "markdown",
   "metadata": {},
   "source": [
    "#### Ejercicio 1"
   ]
  },
  {
   "cell_type": "markdown",
   "metadata": {},
   "source": [
    "\t\tEscribir un programa que pida al usuario una palabra y la muestre por pantalla 10 veces."
   ]
  },
  {
   "cell_type": "code",
   "execution_count": 21,
   "metadata": {},
   "outputs": [
    {
     "name": "stdout",
     "output_type": "stream",
     "text": [
      "Exitos Sebas!!!\n",
      "Exitos Sebas!!!\n",
      "Exitos Sebas!!!\n",
      "Exitos Sebas!!!\n",
      "Exitos Sebas!!!\n",
      "Exitos Sebas!!!\n",
      "Exitos Sebas!!!\n",
      "Exitos Sebas!!!\n",
      "Exitos Sebas!!!\n",
      "Exitos Sebas!!!\n"
     ]
    }
   ],
   "source": [
    "palabra = (input('Ingresa una palabra: '))\n",
    "for i in range(10):\n",
    "\tprint(palabra)"
   ]
  },
  {
   "cell_type": "markdown",
   "metadata": {},
   "source": [
    "#### # Ejercicio 2"
   ]
  },
  {
   "cell_type": "markdown",
   "metadata": {},
   "source": [
    "\tEscribir un programa que pregunte al usuario su edad y muestre por pantalla todos los años que ha cumplido (desde 1 hasta su edad)."
   ]
  },
  {
   "cell_type": "code",
   "execution_count": 2,
   "metadata": {},
   "outputs": [
    {
     "name": "stdout",
     "output_type": "stream",
     "text": [
      "Edad y años cumplidos: 1\n",
      "Edad y años cumplidos: 2\n",
      "Edad y años cumplidos: 3\n",
      "Edad y años cumplidos: 4\n",
      "Edad y años cumplidos: 5\n",
      "Edad y años cumplidos: 6\n",
      "Edad y años cumplidos: 7\n",
      "Edad y años cumplidos: 8\n",
      "Edad y años cumplidos: 9\n",
      "Edad y años cumplidos: 10\n",
      "Edad y años cumplidos: 11\n"
     ]
    }
   ],
   "source": [
    "edad = int(input('Introduce tu edad: '))\n",
    "for i in range(0, edad):\n",
    "\tprint(f'Edad y años cumplidos: {i + 1}')"
   ]
  },
  {
   "cell_type": "markdown",
   "metadata": {},
   "source": [
    "#### Ejercicio 3"
   ]
  },
  {
   "cell_type": "markdown",
   "metadata": {},
   "source": [
    "\tEscribir un programa que pida al usuario un número entero positivo y muestre por pantalla todos los números impares desde 1 hasta ese número separados por comas."
   ]
  },
  {
   "cell_type": "code",
   "execution_count": 27,
   "metadata": {},
   "outputs": [
    {
     "name": "stdout",
     "output_type": "stream",
     "text": [
      "0,1,2,3,4,5,6,7,8,9,10,11,"
     ]
    }
   ],
   "source": [
    "num = int(input('Ingresa un numero entero: '))\n",
    "for i in range(num + 1):\n",
    "\tif num % 2 != 0:\n",
    "\t\tprint(i, end =',')"
   ]
  },
  {
   "cell_type": "markdown",
   "metadata": {},
   "source": [
    "#### Ejercicio 4"
   ]
  },
  {
   "cell_type": "markdown",
   "metadata": {},
   "source": [
    "\tEscribir un programa que pida al usuario un número entero positivo y muestre por pantalla la **cuenta atrás** desde ese número hasta cero separados por comas."
   ]
  },
  {
   "cell_type": "code",
   "execution_count": 24,
   "metadata": {},
   "outputs": [
    {
     "name": "stdout",
     "output_type": "stream",
     "text": [
      "11,10,9,8,7,6,5,4,3,2,1,0,"
     ]
    }
   ],
   "source": [
    "n = int(input(\"Introduce un número entero positivo: \"))\n",
    "for i in range(n+1):\n",
    "\tprint(n, end =',')\n",
    "\tn -= 1"
   ]
  },
  {
   "cell_type": "markdown",
   "metadata": {},
   "source": [
    "#### Ejercicio 5"
   ]
  },
  {
   "cell_type": "markdown",
   "metadata": {},
   "source": [
    "\tEscribir un programa que pregunte al usuario una cantidad a invertir, el interés anual y el número de años, y muestre por pantalla el capital obtenido en la inversión cada año que dura la inversión."
   ]
  },
  {
   "cell_type": "code",
   "execution_count": 28,
   "metadata": {},
   "outputs": [
    {
     "name": "stdout",
     "output_type": "stream",
     "text": [
      "Capital obtenido luego de ahorrar 1° año/s es de $ 13117.0\n",
      "Capital obtenido luego de ahorrar 2° año/s es de $ 13235.05\n",
      "Capital obtenido luego de ahorrar 3° año/s es de $ 13354.17\n"
     ]
    }
   ],
   "source": [
    "cantidad = float(input(\"¿Cantidad a invertir? \"))\n",
    "interes_anual = float(input(\"¿Interés porcentual anual? \"))\n",
    "años = int(input(\"¿Años?\"))\n",
    "for i in range(años):\n",
    "\tcantidad *= 1 + interes_anual / 100\n",
    "\tprint(f'Capital obtenido luego de ahorrar {i + 1}° año/s es de $ {round(cantidad, 2)}')"
   ]
  },
  {
   "cell_type": "markdown",
   "metadata": {},
   "source": [
    "#### Ejercicio 6"
   ]
  },
  {
   "cell_type": "markdown",
   "metadata": {},
   "source": [
    "\tEscribir un programa que pida al usuario un número entero y muestre por pantalla un triángulo rectángulo como el de más abajo, de altura el número introducido."
   ]
  },
  {
   "cell_type": "code",
   "execution_count": 2,
   "metadata": {},
   "outputs": [
    {
     "name": "stdout",
     "output_type": "stream",
     "text": [
      "\n",
      "\n",
      "*\n",
      "**\n",
      "***\n",
      "*\n",
      "\n",
      "*\n",
      "**\n",
      "***\n",
      "**\n",
      "\n",
      "*\n",
      "**\n",
      "***\n",
      "***\n",
      "\n",
      "*\n",
      "**\n",
      "***\n"
     ]
    }
   ],
   "source": [
    "n = int(input(\"Introduce la altura del triángulo (numero entero positivo): \"))\n",
    "for i in range(n + 1):\n",
    "\tprint('*' * i)\n",
    "\tfor j in range(n + 1):\n",
    "\t\tprint('*' * j)"
   ]
  },
  {
   "cell_type": "code",
   "execution_count": 11,
   "metadata": {},
   "outputs": [
    {
     "name": "stdout",
     "output_type": "stream",
     "text": [
      "*\n",
      "**\n",
      "***\n",
      "****\n",
      "*****\n",
      "******\n"
     ]
    }
   ],
   "source": [
    "n = int(input(\"Introduce la altura del triángulo (numero entero positivo): \"))\n",
    "for i in range(n+1):\n",
    "    for j in range(i+1):\n",
    "        print(\"*\", end=\"\")\n",
    "    print(\"\")"
   ]
  },
  {
   "cell_type": "markdown",
   "metadata": {},
   "source": [
    "#### Ejercicio 7"
   ]
  },
  {
   "cell_type": "markdown",
   "metadata": {},
   "source": [
    "\tEscribir un programa que muestre por pantalla la tabla de multiplicar del 1 al 10."
   ]
  },
  {
   "cell_type": "code",
   "execution_count": 58,
   "metadata": {},
   "outputs": [
    {
     "name": "stdout",
     "output_type": "stream",
     "text": [
      "1 * 1 = 1\n",
      "1 * 2 = 2\n",
      "1 * 3 = 3\n",
      "1 * 4 = 4\n",
      "1 * 5 = 5\n",
      "1 * 6 = 6\n",
      "1 * 7 = 7\n",
      "1 * 8 = 8\n",
      "1 * 9 = 9\n",
      "1 * 10 = 10\n",
      "\n",
      "2 * 1 = 2\n",
      "2 * 2 = 4\n",
      "2 * 3 = 6\n",
      "2 * 4 = 8\n",
      "2 * 5 = 10\n",
      "2 * 6 = 12\n",
      "2 * 7 = 14\n",
      "2 * 8 = 16\n",
      "2 * 9 = 18\n",
      "2 * 10 = 20\n",
      "\n",
      "3 * 1 = 3\n",
      "3 * 2 = 6\n",
      "3 * 3 = 9\n",
      "3 * 4 = 12\n",
      "3 * 5 = 15\n",
      "3 * 6 = 18\n",
      "3 * 7 = 21\n",
      "3 * 8 = 24\n",
      "3 * 9 = 27\n",
      "3 * 10 = 30\n",
      "\n",
      "4 * 1 = 4\n",
      "4 * 2 = 8\n",
      "4 * 3 = 12\n",
      "4 * 4 = 16\n",
      "4 * 5 = 20\n",
      "4 * 6 = 24\n",
      "4 * 7 = 28\n",
      "4 * 8 = 32\n",
      "4 * 9 = 36\n",
      "4 * 10 = 40\n",
      "\n",
      "5 * 1 = 5\n",
      "5 * 2 = 10\n",
      "5 * 3 = 15\n",
      "5 * 4 = 20\n",
      "5 * 5 = 25\n",
      "5 * 6 = 30\n",
      "5 * 7 = 35\n",
      "5 * 8 = 40\n",
      "5 * 9 = 45\n",
      "5 * 10 = 50\n",
      "\n",
      "6 * 1 = 6\n",
      "6 * 2 = 12\n",
      "6 * 3 = 18\n",
      "6 * 4 = 24\n",
      "6 * 5 = 30\n",
      "6 * 6 = 36\n",
      "6 * 7 = 42\n",
      "6 * 8 = 48\n",
      "6 * 9 = 54\n",
      "6 * 10 = 60\n",
      "\n",
      "7 * 1 = 7\n",
      "7 * 2 = 14\n",
      "7 * 3 = 21\n",
      "7 * 4 = 28\n",
      "7 * 5 = 35\n",
      "7 * 6 = 42\n",
      "7 * 7 = 49\n",
      "7 * 8 = 56\n",
      "7 * 9 = 63\n",
      "7 * 10 = 70\n",
      "\n",
      "8 * 1 = 8\n",
      "8 * 2 = 16\n",
      "8 * 3 = 24\n",
      "8 * 4 = 32\n",
      "8 * 5 = 40\n",
      "8 * 6 = 48\n",
      "8 * 7 = 56\n",
      "8 * 8 = 64\n",
      "8 * 9 = 72\n",
      "8 * 10 = 80\n",
      "\n",
      "9 * 1 = 9\n",
      "9 * 2 = 18\n",
      "9 * 3 = 27\n",
      "9 * 4 = 36\n",
      "9 * 5 = 45\n",
      "9 * 6 = 54\n",
      "9 * 7 = 63\n",
      "9 * 8 = 72\n",
      "9 * 9 = 81\n",
      "9 * 10 = 90\n",
      "\n",
      "10 * 1 = 10\n",
      "10 * 2 = 20\n",
      "10 * 3 = 30\n",
      "10 * 4 = 40\n",
      "10 * 5 = 50\n",
      "10 * 6 = 60\n",
      "10 * 7 = 70\n",
      "10 * 8 = 80\n",
      "10 * 9 = 90\n",
      "10 * 10 = 100\n",
      "\n"
     ]
    }
   ],
   "source": [
    "for i in range(10):\n",
    "\tprint(f'{i + 1} * 1 = {(i + 1) * 1 }')\n",
    "\tprint(f'{i + 1} * 2 = {(i + 1) * 2 }')\n",
    "\tprint(f'{i + 1} * 3 = {(i + 1) * 3 }')\n",
    "\tprint(f'{i + 1} * 4 = {(i + 1) * 4 }')\n",
    "\tprint(f'{i + 1} * 5 = {(i + 1) * 5 }')\n",
    "\tprint(f'{i + 1} * 6 = {(i + 1) * 6 }')\n",
    "\tprint(f'{i + 1} * 7 = {(i + 1) * 7 }')\n",
    "\tprint(f'{i + 1} * 8 = {(i + 1) * 8 }')\n",
    "\tprint(f'{i + 1} * 9 = {(i + 1) * 9 }')\n",
    "\tprint(f'{i + 1} * 10 = {(i + 1) * 10 }')\n",
    "\tprint('')\n"
   ]
  },
  {
   "cell_type": "markdown",
   "metadata": {},
   "source": [
    "#### Ejercicio 8"
   ]
  },
  {
   "cell_type": "markdown",
   "metadata": {},
   "source": [
    "\tEscribir un programa que pida al usuario un número entero y muestre por pantalla un triángulo rectángulo como el de más abajo."
   ]
  },
  {
   "cell_type": "markdown",
   "metadata": {},
   "source": [
    "\t#! i = 1 | j = 1 - 2 = -1 -> esta no se toma en cuenta 1° iter\n",
    "\t#! i = 3 | j = 3 - 2 = 1  -> 2°iter\n",
    "\t#! i = 5 | j = 5 - 2 = 3\n",
    "\t#! i = 7 | j = 7 - 2 = 5\n",
    "\t#! i = 9 | j = 8 - 2 = 7\n",
    "\t#! i = 11 | j = 11 -2 = 9\n"
   ]
  },
  {
   "cell_type": "code",
   "execution_count": 2,
   "metadata": {},
   "outputs": [
    {
     "name": "stdout",
     "output_type": "stream",
     "text": [
      "1 \n",
      "3 1 \n",
      "5 3 1 \n",
      "7 5 3 1 \n",
      "9 7 5 3 1 \n"
     ]
    }
   ],
   "source": [
    "n = int(input('Escribe un numero entero: '))\n",
    "\n",
    "for i in range(1,( n + 1), 2):\n",
    "\tfor j in range(i, 0, -2):\n",
    "\t\tprint(j, end=' ')\n",
    "\tprint('')"
   ]
  },
  {
   "cell_type": "markdown",
   "metadata": {},
   "source": [
    "#### Ejercicio 9"
   ]
  },
  {
   "cell_type": "markdown",
   "metadata": {},
   "source": [
    "Escribir un programa que almacene la cadena de caracteres contraseña en una variable, pregunte al usuario por la contraseña hasta que introduzca la contraseña correcta."
   ]
  },
  {
   "cell_type": "code",
   "execution_count": 5,
   "metadata": {},
   "outputs": [],
   "source": [
    "pwd = input('Escribe tu contraseña: ')\n",
    "contrasenia = 'yo'\n",
    "\n",
    "while pwd != contrasenia:\n",
    "\tintento = input('Contraseña es incorrecta, intenra de nuevo: ')\n",
    "\tif intento == contrasenia:\n",
    "\t\tprint('Bienvenido')\n",
    "\t\tbreak"
   ]
  },
  {
   "cell_type": "markdown",
   "metadata": {},
   "source": [
    "#### Ejercicio 10"
   ]
  },
  {
   "cell_type": "markdown",
   "metadata": {},
   "source": [
    "\tEscribir un programa que pida al usuario un número entero y muestre por pantalla si es un número primo o no."
   ]
  },
  {
   "cell_type": "code",
   "execution_count": 6,
   "metadata": {},
   "outputs": [],
   "source": [
    "n = int(input('Escribe un numero para saber sie es primo o no: '))\n",
    "i = 2\n",
    "while n % i != 0:\n",
    "\ti += 1\n",
    "if i == n:\n",
    "\tprint(f'El numero: {n} es primo')\n",
    "else:\n",
    "\tprint(f'El numero: {n} no es primo')"
   ]
  },
  {
   "cell_type": "markdown",
   "metadata": {},
   "source": [
    "#### Ejercicio 11\n"
   ]
  },
  {
   "cell_type": "markdown",
   "metadata": {},
   "source": [
    "\tEscribir un programa que pida al usuario una palabra y luego muestre por pantalla una a una las letras de la palabra introducida empezando por la última."
   ]
  },
  {
   "cell_type": "code",
   "execution_count": 1,
   "metadata": {},
   "outputs": [
    {
     "name": "stdout",
     "output_type": "stream",
     "text": [
      "o\n",
      "g\n",
      "a\n",
      "m\n"
     ]
    }
   ],
   "source": [
    "palabra = input('Escribe una palabra: ')\n",
    "\n",
    "for i in range(len(palabra) -1, -1, -1):\n",
    "\tprint(palabra[i])"
   ]
  }
 ],
 "metadata": {
  "kernelspec": {
   "display_name": "Python 3.10.6 64-bit",
   "language": "python",
   "name": "python3"
  },
  "language_info": {
   "codemirror_mode": {
    "name": "ipython",
    "version": 3
   },
   "file_extension": ".py",
   "mimetype": "text/x-python",
   "name": "python",
   "nbconvert_exporter": "python",
   "pygments_lexer": "ipython3",
   "version": "3.10.6"
  },
  "orig_nbformat": 4,
  "vscode": {
   "interpreter": {
    "hash": "916dbcbb3f70747c44a77c7bcd40155683ae19c65e1c03b4aa3499c5328201f1"
   }
  }
 },
 "nbformat": 4,
 "nbformat_minor": 2
}
