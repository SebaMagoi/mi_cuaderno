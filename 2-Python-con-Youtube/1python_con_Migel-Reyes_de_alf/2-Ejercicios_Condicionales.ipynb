{
 "cells": [
  {
   "cell_type": "markdown",
   "metadata": {},
   "source": [
    "#### Ejercicio 1"
   ]
  },
  {
   "cell_type": "markdown",
   "metadata": {},
   "source": [
    "\tEscribir un programa que pregunte al usuario su edad y muestre por pantalla si es mayor de edad o no."
   ]
  },
  {
   "cell_type": "code",
   "execution_count": 1,
   "metadata": {},
   "outputs": [
    {
     "name": "stdout",
     "output_type": "stream",
     "text": [
      "si eres mayor de edad\n"
     ]
    }
   ],
   "source": [
    "edad = int(input(\"Introduce tu edad por favor: \"))\n",
    "if edad >= 18:\n",
    "\tprint(\"si eres mayor de edad\")\n",
    "else:\n",
    "\tprint(\"No eres mayor de edad\")"
   ]
  },
  {
   "cell_type": "markdown",
   "metadata": {},
   "source": [
    "\n",
    "#### Ejercicio 2 "
   ]
  },
  {
   "cell_type": "markdown",
   "metadata": {},
   "source": [
    "\tEscribir un programa que almacene la cadena de caracteres contraseña en una variable, pregunte al usuario por la contraseña e imprima por pantalla si la contraseña introducida por el usuario coincide con la guardada en la variable sin tener en cuenta mayúsculas y minúsculas."
   ]
  },
  {
   "cell_type": "code",
   "execution_count": 2,
   "metadata": {},
   "outputs": [
    {
     "name": "stdout",
     "output_type": "stream",
     "text": [
      "Bienvenido\n"
     ]
    }
   ],
   "source": [
    "contrasena = 'tesla'\n",
    "password = input('¿Cual es la contrasena?: ')\n",
    "password = password.lower()  # transforma todo en mayusculas\n",
    "# password = password.upper() # Transforma todo a minuscula\n",
    "if contrasena == password:\n",
    "\tprint('Bienvenido')\n",
    "else:\n",
    "\tprint(\"Contrasena incorrecta\")"
   ]
  },
  {
   "cell_type": "markdown",
   "metadata": {},
   "source": [
    "#### Ejercicio 3"
   ]
  },
  {
   "cell_type": "markdown",
   "metadata": {},
   "source": [
    "\tEscribir un programa que pida al usuario dos números y muestre por pantalla su división. Si el divisor(Denominador) es cero el programa debe mostrar un error."
   ]
  },
  {
   "cell_type": "code",
   "execution_count": null,
   "metadata": {},
   "outputs": [],
   "source": [
    "numerador = int(input('Escribe un numerador'))\n",
    "denominador = int(input('Escribe un denominador'))\n",
    "if denominador == 0:\n",
    "\tprint('Error no es posible la division entre cero')\t\n",
    "else:\n",
    "\tprint(f'La division de {numerador} entre {denominador} es {numerador / denominador}')"
   ]
  },
  {
   "cell_type": "markdown",
   "metadata": {},
   "source": [
    "#### Ejercicio 4"
   ]
  },
  {
   "cell_type": "markdown",
   "metadata": {},
   "source": [
    "\tEscribir un programa que pida al usuario un número entero y muestre por pantalla si es par o impar."
   ]
  },
  {
   "cell_type": "code",
   "execution_count": null,
   "metadata": {},
   "outputs": [],
   "source": [
    "numero = int(input(\" escribe un numero: \"))\n",
    "if numero % 2 == 0:\n",
    "\tprint(f\"El numero {numero} es par\")\n",
    "else:\n",
    "\tprint(f\"El numero {numero} es impar\")"
   ]
  },
  {
   "cell_type": "markdown",
   "metadata": {},
   "source": [
    "#### Ejercicio 5\n"
   ]
  },
  {
   "cell_type": "markdown",
   "metadata": {},
   "source": [
    "\tPara tributar un determinado impuesto se debe ser mayor de 16 años y tener unos ingresos iguales o superiores a 1000 € mensuales. Escribir un programa que pregunte al usuario su edad y sus ingresos mensuales y muestre por pantalla si el usuario tiene que tributar o no."
   ]
  },
  {
   "cell_type": "code",
   "execution_count": null,
   "metadata": {},
   "outputs": [],
   "source": [
    "edad = int(input('¿Cuantos anios tienes?: '))\n",
    "ingresos = int(input('¿Cuanto es tu ingreso mensual?: '))\n",
    "if edad > 16 and ingresos >= 1000:\n",
    "\tprint('Tienes que pagar')\n",
    "else:\n",
    "\tprint('No tienes que pagar')"
   ]
  },
  {
   "cell_type": "markdown",
   "metadata": {},
   "source": [
    "#### Ejercicio 6"
   ]
  },
  {
   "cell_type": "markdown",
   "metadata": {},
   "source": [
    "\tLos alumnos de un curso se han dividido en dos grupos A y B de acuerdo al sexo y el nombre. El grupo A esta formado por las mujeres con un nombre anterior a la M y los hombres con un nombre posterior a la N y el grupo B por el resto. Escribir un programa que pregunte al usuario su nombre y sexo, y muestre por pantalla el grupo que le corresponde."
   ]
  },
  {
   "cell_type": "code",
   "execution_count": 1,
   "metadata": {},
   "outputs": [
    {
     "name": "stdout",
     "output_type": "stream",
     "text": [
      "Sebastian perteneces al grupo B\n"
     ]
    }
   ],
   "source": [
    "nombre = input(\"¿Cual es tu nombre?: \")\n",
    "sexo = input(\"¿Cual es tu sexo? (H o M): \")\n",
    "grupo = ''\n",
    "\n",
    "if ((nombre.lower() < 'm' and sexo == 'M') or (nombre.lower() > 'n' and sexo == 'H')):\n",
    "\tgrupo = 'A'\n",
    "else:\n",
    "\tgrupo = 'B'\n",
    "\n",
    "print(f'{nombre} perteneces al grupo {grupo}')"
   ]
  },
  {
   "cell_type": "markdown",
   "metadata": {},
   "source": [
    " La solucion 1 de alf:\n",
    " Ejercicio 6"
   ]
  },
  {
   "cell_type": "code",
   "execution_count": null,
   "metadata": {},
   "outputs": [],
   "source": [
    "name = input(\"¿Cómo te llamas? \")\n",
    "gender = input(\"¿Cuál es tu sexo (M o H)? \")\n",
    "if gender == \"M\":\n",
    "    if name.lower() < \"m\":\n",
    "        group = \"A\"\n",
    "    else:\n",
    "        group = \"B\"\n",
    "else:\n",
    "    if name.lower() > \"n\":\n",
    "        group = \"A\"\n",
    "    else:\n",
    "        group = \"B\"\n",
    "print(\"Tu grupo es \" + group)"
   ]
  },
  {
   "cell_type": "markdown",
   "metadata": {},
   "source": [
    "La solucion 2 de alf:\n",
    "Ejercicio 6"
   ]
  },
  {
   "cell_type": "code",
   "execution_count": null,
   "metadata": {},
   "outputs": [],
   "source": [
    "\n",
    "name = input(\"¿Cómo te llamas? \")\n",
    "gender = input(\"¿Cuál es tu sexo (M o H)? \")\n",
    "if (gender == \"M\" and name.lower() < 'm') or (gender == \"H\" and name.lower() > 'n'):\n",
    "    group = \"A\"\n",
    "else:\n",
    "    group = \"B\"\n",
    "print(\"Tu grupo es \" + group)"
   ]
  },
  {
   "cell_type": "markdown",
   "metadata": {},
   "source": [
    "#### Ejercicio 7"
   ]
  },
  {
   "cell_type": "markdown",
   "metadata": {},
   "source": [
    "\tLos tramos impositivos para la declaración de la renta en un determinado país son los siguientes:\n",
    "\n",
    "\n",
    "\t\tRenta\t\t\tTipo impositivo\n",
    "\tMenos de 10000€\t\t\t\t5%\n",
    "\tEntre 10000€ y 20000€\t\t\t15%\n",
    "\tEntre 20000€ y 35000€\t\t\t20%\n",
    "\tEntre 35000€ y 60000€\t\t\t30%\n",
    "\tMás de 60000€\t\t\t\t45%\n",
    "\n",
    " \tEscribir un programa que pregunte al usuario su renta anual y muestre por pantalla el tipo impositivo que le corresponde."
   ]
  },
  {
   "cell_type": "code",
   "execution_count": 10,
   "metadata": {},
   "outputs": [
    {
     "name": "stdout",
     "output_type": "stream",
     "text": [
      "para la Renta Anual de 37000.0 , El Tipo Impositivo es: 30%\n"
     ]
    }
   ],
   "source": [
    "renta_anual = float(input('¿Cuál es tu renta anual?: '))\n",
    "tipo_impositivo = ''\n",
    "\n",
    "if renta_anual < 10000:\n",
    "\ttipo_impositivo = '5%'\n",
    "elif renta_anual > 10000 and renta_anual < 20000:\n",
    "\ttipo_impositivo = '15%'\n",
    "elif renta_anual > 20000 and renta_anual < 35000:\n",
    "\ttipo_impositivo = '20%'\n",
    "elif renta_anual > 35000 and renta_anual < 60000:\n",
    "\ttipo_impositivo = '30%'\n",
    "else:\n",
    "\ttipo_impositivo = '45%'\n",
    "\n",
    "print(f'para la Renta Anual de {renta_anual} , El Tipo Impositivo es: {tipo_impositivo}')"
   ]
  },
  {
   "cell_type": "markdown",
   "metadata": {},
   "source": [
    "#### Ejercicio 8"
   ]
  },
  {
   "cell_type": "markdown",
   "metadata": {},
   "source": [
    "\tEn una determinada empresa, sus empleados son evaluados al final de cada año. Los puntos que pueden obtener en la evaluación comienzan en 0.0 y pueden ir aumentando, traduciéndose en mejores beneficios. Los puntos que pueden conseguir los empleados pueden ser 0.0, 0.4, 0.6 o más, pero no valores intermedios entre las cifras mencionadas. A continuación se muestra una tabla con los niveles correspondientes a cada puntuación. La cantidad de dinero conseguida en cada nivel es de 2.400€ multiplicada por la puntuación del nivel."
   ]
  },
  {
   "cell_type": "markdown",
   "metadata": {},
   "source": [
    "\tNivel\t\tPuntuación\n",
    "\tInaceptable\t0.0\n",
    "\tAceptable\t0.4\n",
    "\tMeritorio\t0.6 o más"
   ]
  },
  {
   "cell_type": "markdown",
   "metadata": {},
   "source": [
    "\tEscribir un programa que lea la puntuación del usuario e indique su nivel de rendimiento, así como la cantidad de dinero que recibirá el usuario."
   ]
  },
  {
   "cell_type": "code",
   "execution_count": 23,
   "metadata": {},
   "outputs": [
    {
     "name": "stdout",
     "output_type": "stream",
     "text": [
      "Tu beneficio es $3840.0 y tu nivel es meritorio\n"
     ]
    }
   ],
   "source": [
    "puntuacion = float(input('Escribe tu puntuacion: '))\n",
    "sueldo_base = 2400\n",
    "beneficio = (puntuacion * sueldo_base) + sueldo_base\n",
    "nivel = ''\n",
    "\n",
    "if puntuacion == 0 or puntuacion == 0.0:\n",
    "\tnivel = 'inaceptable'\n",
    "\tprint(f'Tu beneficio es ${beneficio} y tu nivel es {nivel}')\n",
    "elif puntuacion == 0.4:\n",
    "\tnivel = 'aceptable'\n",
    "\tprint(f'Tu beneficio es ${beneficio} y tu nivel es {nivel}')\n",
    "elif puntuacion >= 0.6:\n",
    "\tnivel = 'meritorio'\n",
    "\tprint(f'Tu beneficio es ${beneficio} y tu nivel es {nivel}')\n"
   ]
  },
  {
   "cell_type": "markdown",
   "metadata": {},
   "source": [
    "#### Ejercicio 9"
   ]
  },
  {
   "cell_type": "markdown",
   "metadata": {},
   "source": [
    "\tEscribir un programa para una empresa que tiene salas de juegos para todas las edades y quiere calcular de forma automática el precio que debe cobrar a sus clientes por entrar. El programa debe preguntar al usuario la edad del cliente y mostrar el precio de la entrada. Si el cliente es menor de 4 años puede entrar gratis, si tiene entre 4 y 18 años debe pagar 5€ y si es mayor de 18 años, 10€."
   ]
  },
  {
   "cell_type": "code",
   "execution_count": 24,
   "metadata": {},
   "outputs": [
    {
     "name": "stdout",
     "output_type": "stream",
     "text": [
      "Tu edad es: 12 ingresas: Pagando $5\n"
     ]
    }
   ],
   "source": [
    "edad = int(input('Introduce tu edad por favor: '))\n",
    "precio_entrada = ''\n",
    "if edad < 4:\n",
    "\tprecio_entrada = 'Gratuitamente' \n",
    "elif edad >= 4 and edad <= 18:\n",
    "\tprecio_entrada = 'Pagando $5'\n",
    "elif edad > 18:\n",
    "\tprecio_entrada = 'Pagando $10'\n",
    "\n",
    "print(f'Tu edad es: {edad} y el precio de la entrada es : {precio_entrada}') "
   ]
  },
  {
   "cell_type": "markdown",
   "metadata": {},
   "source": [
    "#### Ejercicio 10"
   ]
  },
  {
   "cell_type": "markdown",
   "metadata": {},
   "source": [
    "\tLa pizzería Bella Napoli ofrece pizzas vegetarianas y no vegetarianas a sus clientes. Los ingredientes para cada tipo de pizza aparecen a continuación.\n",
    "\n",
    "\t*Ingredientes vegetarianos: Pimiento y tofu.\n",
    "\t*Ingredientes no vegetarianos: Peperoni, Jamón y Salmón.\n",
    "\n",
    "\tEscribir un programa que pregunte al usuario si quiere una pizza vegetariana o no, y en función de su respuesta le muestre un menú con los ingredientes disponibles para que elija. Solo se puede eligir un ingrediente además de la mozzarella y el tomate que están en todas la pizzas. Al final se debe mostrar por pantalla si la pizza elegida es vegetariana o no y todos los ingredientes que lleva."
   ]
  },
  {
   "cell_type": "code",
   "execution_count": 32,
   "metadata": {},
   "outputs": [
    {
     "name": "stdout",
     "output_type": "stream",
     "text": [
      "Bienvenido a la pizzeria Bella Napoli.\n",
      "Tipos de pizza\n",
      "\t1- Vegetariana\n",
      "\t2- No vegetariana\n",
      "\n",
      "Ingredientes Vegetariano.\n",
      "\t1- Pimiento\n",
      "\t2- Tofu\n",
      "\n",
      "Pizza Vegetariana con Motzzarella, Tomate y Tofu\n"
     ]
    }
   ],
   "source": [
    "print(\"Bienvenido a la pizzeria Bella Napoli.\\nTipos de pizza.\\n\\t1- Vegetariana.\\n\\t2- No vegetariana.\\n\")\n",
    "tipo_pizza = input('Dinos el tipo de pizza que quieres segun el numero: ')\n",
    "\n",
    "if tipo_pizza == '1':\n",
    "\tprint('Ingredientes Vegetariano.\\n\\t1- Pimiento.\\n\\t2- Tofu.\\n')\n",
    "\n",
    "\tingrediente = input('Introduce tu ingrediente: ')\n",
    "\n",
    "\tprint('Pizza Vegetariana con Motzzarella, Tomate y ', end=\"\" )\n",
    "\n",
    "\tif ingrediente == '1':\n",
    "\t\tprint('Pimiento.')\n",
    "\telse:\n",
    "\t\tprint('Tofu.')\n",
    "else:\n",
    "\tprint(input('Ingrediente No Vegetariano.\\n\\t1- Peperoni.\\n\\t2- Jamon.\\n\\t3- Salmon.\\n'))\n",
    "\tingrediente = input('Introduce tu ingrediente: ')\n",
    "\tprint('Pizza Vegetariana con Motzzarella, Tomate y ', end=\"\" )\n",
    "\tif ingrediente == '1':\n",
    "\t\tprint('Peperoni.')\n",
    "\telif ingrediente == '2':\n",
    "\t\tprint('Jamon.')\n",
    "\telse:\n",
    "\t\tprint('Salmon.')\t\n",
    "\n"
   ]
  },
  {
   "cell_type": "code",
   "execution_count": 34,
   "metadata": {},
   "outputs": [
    {
     "name": "stdout",
     "output_type": "stream",
     "text": [
      "Tu pizza es Vegetariana, y tiene Mozzarella, Tomate y Salmon\n"
     ]
    }
   ],
   "source": [
    "pizza = int(input('Escoge un tipo de pizza; Vegetariana 2. No Vegetariana : '))\n",
    "ingredientes = ''\n",
    "opcion_ingredientes = 0\n",
    "\n",
    "if pizza == 1:\n",
    "\topcion_ingredientes = (int(input('Escoge un ingrediente; 1-Pimiento.\t2-Tofu. : ')))\n",
    "\tif opcion_ingredientes == 1:\n",
    "\t\tprint('Tu pizza es Vegetariana, y tiene Mozzarella, Tomate y Pimiento')\n",
    "\telif opcion_ingredientes == 2:\n",
    "\t\tprint('Tu pizza es Vegetariana, y tiene Mozzarella, Tomate y Tofu')\n",
    "\telse:\n",
    "\t\tprint('Opcion No válida')\n",
    "elif pizza == 2:\n",
    "\topcion_ingredientes = (int(input('Escoge un ingrediente; 1-Peperoni.\t2-Jamon.\t3-Salmon. : ')))\n",
    "\tif opcion_ingredientes == 1:\n",
    "\t\tprint('Tu pizza es No Vegetariana, y tiene Mozzarella, Tomate y peperoni')\n",
    "\telif opcion_ingredientes == 2:\n",
    "\t\tprint('Tu pizza es No  Vegetariana, y tiene Mozzarella, Tomate y Jamon')\n",
    "\telif opcion_ingredientes == 3:\n",
    "\t\tprint('Tu pizza es No Vegetariana, y tiene Mozzarella, Tomate y Salmon')\n",
    "\telse:\n",
    "\t\tprint('Opcion No válida')\t"
   ]
  }
 ],
 "metadata": {
  "kernelspec": {
   "display_name": "Python 3.10.6 ('venv': venv)",
   "language": "python",
   "name": "python3"
  },
  "language_info": {
   "codemirror_mode": {
    "name": "ipython",
    "version": 3
   },
   "file_extension": ".py",
   "mimetype": "text/x-python",
   "name": "python",
   "nbconvert_exporter": "python",
   "pygments_lexer": "ipython3",
   "version": "3.10.6"
  },
  "orig_nbformat": 4,
  "vscode": {
   "interpreter": {
    "hash": "414be81687b5e5a73f9372875a3eedaa6a508c221da05c5a0bdfeed9ec48b38f"
   }
  }
 },
 "nbformat": 4,
 "nbformat_minor": 2
}
