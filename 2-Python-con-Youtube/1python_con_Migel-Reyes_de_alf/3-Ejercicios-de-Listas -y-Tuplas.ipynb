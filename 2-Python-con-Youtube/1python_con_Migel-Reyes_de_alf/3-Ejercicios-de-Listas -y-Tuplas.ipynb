{
 "cells": [
  {
   "cell_type": "markdown",
   "metadata": {},
   "source": [
    "## Ejercicios de Listas y Tuplas\n"
   ]
  },
  {
   "cell_type": "markdown",
   "metadata": {},
   "source": [
    "#### Ejercicio 1"
   ]
  },
  {
   "cell_type": "markdown",
   "metadata": {},
   "source": [
    "\tEscribir un programa que almacene las asignaturas de un curso (por ejemplo Matemáticas, Física, Química, Historia y Lengua) en una lista y la muestre por pantalla."
   ]
  },
  {
   "cell_type": "code",
   "execution_count": 1,
   "metadata": {},
   "outputs": [
    {
     "name": "stdout",
     "output_type": "stream",
     "text": [
      "['Matematica', 'Fisica', 'Quimica', 'Historia', 'Lengua']\n"
     ]
    }
   ],
   "source": [
    "asignaturas_listas = ['Matematica', 'Fisica', 'Quimica', 'Historia', 'Lengua']\n",
    "print(asignaturas_listas)"
   ]
  },
  {
   "cell_type": "markdown",
   "metadata": {},
   "source": [
    "#### Ejercicio 2"
   ]
  },
  {
   "cell_type": "markdown",
   "metadata": {},
   "source": [
    "\tEscribir un programa que almacene las asignaturas de un curso (por ejemplo Matemáticas, Física, Química, Historia y Lengua) en una lista y la muestre por pantalla el mensaje Yo estudio <asignatura>, donde <asignatura> es cada una de las asignaturas de la lista."
   ]
  },
  {
   "cell_type": "code",
   "execution_count": 1,
   "metadata": {},
   "outputs": [
    {
     "name": "stdout",
     "output_type": "stream",
     "text": [
      "Yo estudio en :  Matematica \n",
      "Yo estudio en :  Fisica \n",
      "Yo estudio en :  Quimica \n",
      "Yo estudio en :  Historia \n",
      "Yo estudio en :  Lengua \n"
     ]
    }
   ],
   "source": [
    "asignaturas_listas = ['Matematica', 'Fisica', 'Quimica', 'Historia', 'Lengua']\n",
    "for asignatura in asignaturas_listas:\n",
    "\tprint(f'Yo estudio en :  {asignatura} ')"
   ]
  },
  {
   "cell_type": "markdown",
   "metadata": {},
   "source": [
    "#### Ejercicio 3"
   ]
  },
  {
   "cell_type": "markdown",
   "metadata": {},
   "source": [
    "\tEscribir un programa que almacene las asignaturas de un curso (por ejemplo Matemáticas, Física, Química, Historia y Lengua) en una lista, pregunte al usuario la nota que ha sacado en cada asignatura, y después las muestre por pantalla con el mensaje En <asignatura> has sacado <nota> donde <asignatura> es cada una des las asignaturas de la lista y <nota> cada una de las correspondientes notas introducidas por el usuario."
   ]
  },
  {
   "cell_type": "code",
   "execution_count": 10,
   "metadata": {},
   "outputs": [
    {
     "name": "stdout",
     "output_type": "stream",
     "text": [
      "En Matematica conseguiste 11.0\n",
      "En Fisica conseguiste 9.0\n",
      "En Quimica conseguiste 9.0\n",
      "En Historia conseguiste 8.0\n",
      "En Lengua conseguiste 9.0\n",
      "La lista de notas es: [11.0, 9.0, 9.0, 8.0, 9.0]\n",
      "La lista de asignaturas es: ['Matematica', 'Fisica', 'Quimica', 'Historia', 'Lengua']\n"
     ]
    }
   ],
   "source": [
    "lista_asignaturas = ['Matematica', 'Fisica', 'Quimica', 'Historia', 'Lengua']\n",
    "lista_notas = []\n",
    "\n",
    "for asignatura in lista_asignaturas:\n",
    "\tnota = float(input(f'Cual fué tu Nota en : {asignatura}?: '))\n",
    "\tlista_notas.append(nota)\n",
    "\n",
    "for i in range(len(lista_asignaturas)):\n",
    "\tprint(f'En {lista_asignaturas[i]} conseguiste {lista_notas[i]}')\n",
    "\n",
    "print(f'La lista de notas es: {lista_notas}')\n",
    "print(f'La lista de asignaturas es: {lista_asignaturas}')"
   ]
  },
  {
   "cell_type": "markdown",
   "metadata": {},
   "source": [
    "#### Ejercicio 4"
   ]
  },
  {
   "cell_type": "markdown",
   "metadata": {},
   "source": [
    "\tEscribir un programa que pregunte al usuario los números ganadores de la lotería primitiva (elejir 6 numeros diferentes, entre 1 y 49), los almacene en una lista y los muestre por pantalla ordenados de menor a mayor."
   ]
  },
  {
   "cell_type": "code",
   "execution_count": 12,
   "metadata": {},
   "outputs": [
    {
     "name": "stdout",
     "output_type": "stream",
     "text": [
      "[3, 7, 9, 22, 33, 43]\n"
     ]
    }
   ],
   "source": [
    "n_ganadores = []\n",
    "for i in range (6):\n",
    "\tn_ganadores.append( int(input('Ingresa los numeros ganadores! :')))\n",
    "\tn_ganadores.sort()\n",
    "print(f'{n_ganadores}')"
   ]
  },
  {
   "cell_type": "markdown",
   "metadata": {},
   "source": [
    "#### Ejercicio 5"
   ]
  },
  {
   "cell_type": "markdown",
   "metadata": {},
   "source": [
    "\tEscribir un programa que almacene en una lista los números del 1 al 10 y los muestre por pantalla en orden inverso separados por comas."
   ]
  },
  {
   "cell_type": "code",
   "execution_count": 15,
   "metadata": {},
   "outputs": [
    {
     "name": "stdout",
     "output_type": "stream",
     "text": [
      "[10, 9, 8, 7, 6, 5, 4, 3, 2, 1]\n"
     ]
    }
   ],
   "source": [
    "mi_lista = []\n",
    "for i in range(1, 11):\n",
    "\tmi_lista.append(i)\n",
    "print(mi_lista[:: -1])\t"
   ]
  },
  {
   "cell_type": "markdown",
   "metadata": {},
   "source": [
    "#### Ejercicio 6"
   ]
  },
  {
   "cell_type": "markdown",
   "metadata": {},
   "source": [
    "\tEscribir un programa que almacene las asignaturas de un curso (por ejemplo Matemáticas, Física, Química, Historia y Lengua) en una lista, pregunte al usuario la nota que ha sacado en cada asignatura y elimine de la lista las asignaturas aprobadas. Al final el programa debe mostrar por pantalla las asignaturas que el usuario tiene que repetir.\n"
   ]
  },
  {
   "cell_type": "code",
   "execution_count": 8,
   "metadata": {},
   "outputs": [],
   "source": [
    "asignaturas_lista = ['Matematica', 'Fisica', 'Quimica', 'Historia', 'Lengua']\n",
    "asignaturas_a_repetir = []"
   ]
  },
  {
   "cell_type": "code",
   "execution_count": 11,
   "metadata": {},
   "outputs": [
    {
     "name": "stdout",
     "output_type": "stream",
     "text": [
      "Debes recursar ['Lengua', 'Matematica', 'Historia', 'Lengua']\n"
     ]
    }
   ],
   "source": [
    "\n",
    "\n",
    "for asignatura in asignaturas_lista:\n",
    "\tnota = float(input(f'Igresa tu Calificacion de {asignatura}: '))\n",
    "\tif nota < 7:\n",
    "\t\tasignaturas_a_repetir.append(asignatura)\n",
    "print(f'Debes recursar {asignaturas_a_repetir}')"
   ]
  },
  {
   "cell_type": "markdown",
   "metadata": {},
   "source": [
    "#### Ejercicio 7"
   ]
  },
  {
   "cell_type": "markdown",
   "metadata": {},
   "source": [
    " \tEscribir un programa que almacene el abecedario en una lista, elimine de la lista las letras que ocupen posiciones múltiplos de 3, y muestre por pantalla la lista resultante.\n"
   ]
  },
  {
   "cell_type": "code",
   "execution_count": 18,
   "metadata": {},
   "outputs": [
    {
     "name": "stdout",
     "output_type": "stream",
     "text": [
      "['a', 'b', 'd', 'e', 'g', 'h', 'j', 'k', 'm', 'n', 'o', 'p', 'r', 's', 'u', 'v', 'x', 'y']\n"
     ]
    }
   ],
   "source": [
    "alphabet = ['a', 'b', 'c', 'd', 'e', 'f', 'g', 'h', 'i', 'j', 'k', 'l', 'm', 'n', 'ñ', 'o', 'p', 'q', 'r', 's', 't', 'u', 'v', 'w', 'x', 'y', 'z']\n",
    "\n",
    "for letra in range(len(alphabet), 0, -1):\n",
    "\tif letra % 3 == 0:\n",
    "\t\talphabet.pop(letra -1)\n",
    "print(alphabet)"
   ]
  },
  {
   "cell_type": "markdown",
   "metadata": {},
   "source": [
    "#### Ejercicio 8\n"
   ]
  },
  {
   "cell_type": "markdown",
   "metadata": {},
   "source": [
    "\tEscribir un programa que pida al usuario una palabra y muestre por pantalla si es un palíndromo."
   ]
  },
  {
   "cell_type": "code",
   "execution_count": 19,
   "metadata": {},
   "outputs": [
    {
     "name": "stdout",
     "output_type": "stream",
     "text": [
      "Es un palíndromo\n"
     ]
    }
   ],
   "source": [
    "palabra = input(\"Introduce una palabra: \")\n",
    "reversa_palabra = palabra\n",
    "palabra = list(palabra)\n",
    "reversa_palabra = list(reversa_palabra)\n",
    "reversa_palabra.reverse()\n",
    "if palabra == reversa_palabra:\n",
    "    print(\"Es un palíndromo\")\n",
    "else:\n",
    "    print(\"No es un palíndromo\")"
   ]
  },
  {
   "cell_type": "code",
   "execution_count": 24,
   "metadata": {},
   "outputs": [
    {
     "name": "stdout",
     "output_type": "stream",
     "text": [
      "mar: No es palindroma\n"
     ]
    }
   ],
   "source": [
    "palabra2 = input(\"Introduce una palabra: \")\n",
    "if palabra2[::] == palabra2[::-1]:\n",
    "\tprint(f'{palabra2}: Es palindroma')\n",
    "else:\n",
    "\tprint(f'{palabra2}: No es palindroma')\n",
    "# anitalavalatina, yosoy,reconocer,..."
   ]
  },
  {
   "cell_type": "markdown",
   "metadata": {},
   "source": [
    "#### Ejercicio 9\n"
   ]
  },
  {
   "cell_type": "markdown",
   "metadata": {},
   "source": [
    "\t Escribir un programa que pida al usuario una palabra y muestre por pantalla el número de veces que contiene cada vocal."
   ]
  },
  {
   "cell_type": "code",
   "execution_count": 2,
   "metadata": {},
   "outputs": [
    {
     "name": "stdout",
     "output_type": "stream",
     "text": [
      "La vocal a aparece 3 veces\n",
      "La vocal e aparece 2 veces\n",
      "La vocal i aparece 6 veces\n",
      "La vocal o aparece 3 veces\n",
      "La vocal u aparece 1 veces\n"
     ]
    }
   ],
   "source": [
    "palabra = input(f'introduce una Palabra: ')\n",
    "vocales = ['a', 'e', 'i', 'o', 'u']\n",
    "\n",
    "for vocal in vocales:\n",
    "\ttiempo = 0\n",
    "\tfor letra in palabra:\n",
    "\t\tif letra == vocal:\n",
    "\t\t\ttiempo += 1\n",
    "\tprint(f'La vocal {vocal} aparece {tiempo} veces')"
   ]
  },
  {
   "cell_type": "markdown",
   "metadata": {},
   "source": [
    "#### Ejercicio 10\n"
   ]
  },
  {
   "cell_type": "markdown",
   "metadata": {},
   "source": [
    "\tEscribir un programa que almacene en una lista los siguientes precios, 50, 75, 46, 22, 80, 65, 8, y muestre por pantalla el menor y el mayor de los precios."
   ]
  },
  {
   "cell_type": "code",
   "execution_count": 4,
   "metadata": {},
   "outputs": [
    {
     "name": "stdout",
     "output_type": "stream",
     "text": [
      "El precio minimo es: 8\n",
      "El precio maximo es: 80\n"
     ]
    }
   ],
   "source": [
    "precios = [50, 75, 46, 22, 80, 65, 8]\n",
    "min = max = precios[0]\n",
    "for precio in precios:\n",
    "    if precio < min:\n",
    "        min = precio\n",
    "    elif precio > max:\n",
    "        max = precio \n",
    "print(f'El precio minimo es: {min}')\n",
    "print(f'El precio maximo es: {max}')"
   ]
  },
  {
   "cell_type": "markdown",
   "metadata": {},
   "source": [
    "#### Ejercicio 11\n"
   ]
  },
  {
   "cell_type": "markdown",
   "metadata": {},
   "source": [
    "\tEscribir un programa que almacene los vectores (1,2,3) y (-1,0,2) en dos listas y muestre por pantalla su producto escalar.\n"
   ]
  },
  {
   "cell_type": "markdown",
   "metadata": {},
   "source": [
    "#### *escalar(1,2,3) + (-1, 0, 2) = [1 * -1] + [2 * 0] + [3 * 2] = [-1 + 0 + 6] = 5\n"
   ]
  },
  {
   "cell_type": "code",
   "execution_count": 5,
   "metadata": {},
   "outputs": [
    {
     "name": "stdout",
     "output_type": "stream",
     "text": [
      "El producto escalar de (1, 2, 3) * (-1, 0, 2) = 5 \n"
     ]
    }
   ],
   "source": [
    "\n",
    "v1 = (1,2,3)\n",
    "v2 = (-1,0,2)\n",
    "\n",
    "producto_escalar = 0\n",
    "\n",
    "for i in range(len(v1)):\n",
    "\tproducto_escalar += v1[i] * v2[i]\n",
    "print(f'El producto escalar de {v1} * {v2} = {producto_escalar} ')"
   ]
  },
  {
   "cell_type": "markdown",
   "metadata": {},
   "source": [
    "#### Ejercicio 12"
   ]
  },
  {
   "cell_type": "markdown",
   "metadata": {},
   "source": [
    "\n",
    "\n",
    "\tEscribir un programa que almacene las matrices\n",
    "\n",
    "\tA = 1 2 3   y    B = -1 0\n",
    " \t    4 5 6             0 1\n",
    "\t\t\t      1 1\t\n",
    "\n",
    "\n",
    "\n",
    "\t*en una lista y muestre por pantalla su producto.\n",
    "\t*Nota: Para representar matrices mediante listas usar listas anidadas, representando cada vector fila en una lista."
   ]
  },
  {
   "cell_type": "code",
   "execution_count": 1,
   "metadata": {},
   "outputs": [
    {
     "name": "stdout",
     "output_type": "stream",
     "text": [
      "[[ 2  5]\n",
      " [ 2 11]]\n"
     ]
    }
   ],
   "source": [
    "\t\n",
    "import numpy as np\n",
    "# yo\n",
    "a = np.array([ [1,2,3],\n",
    "\t\t\t[4,5,6] ]) # 2x3\n",
    "\n",
    "b = np.array([ [-1,0],\n",
    "\t\t\t[0,1],\n",
    "\t\t\t[1,1] ]) # 3x2\n",
    "\n",
    "# (2x3) * (3x2) = (2x2)\n",
    "\n",
    "print(a@b)"
   ]
  },
  {
   "cell_type": "markdown",
   "metadata": {},
   "source": [
    "#### por alf"
   ]
  },
  {
   "cell_type": "code",
   "execution_count": 2,
   "metadata": {},
   "outputs": [
    {
     "name": "stdout",
     "output_type": "stream",
     "text": [
      "(2, 5)\n",
      "(2, 11)\n"
     ]
    }
   ],
   "source": [
    "a = ((1, 2, 3),\n",
    "     (4, 5, 6))\n",
    "b = ((-1, 0),\n",
    "     (0, 1),\n",
    "     (1,1))\n",
    "result = [[0,0],\n",
    "          [0,0]]\n",
    "for i in range(len(a)):\n",
    "    for j in range(len(b[0])):\n",
    "        for k in range(len(b)):\n",
    "            result[i][j] += a[i][k] * b[k][j]\n",
    "for i in range(len(result)):\n",
    "    result[i] = tuple(result[i])\n",
    "result = tuple(result)\n",
    "for i in range(len(result)):\n",
    "    print(result[i])"
   ]
  },
  {
   "cell_type": "markdown",
   "metadata": {},
   "source": [
    "#### Ejercicio 13\n"
   ]
  },
  {
   "cell_type": "markdown",
   "metadata": {},
   "source": [
    "\tEscribir un programa que pregunte por una muestra de números, separados por comas, los guarde en una lista y muestre por pantalla su media y desviación típica."
   ]
  },
  {
   "cell_type": "markdown",
   "metadata": {},
   "source": [
    "alf"
   ]
  },
  {
   "cell_type": "code",
   "execution_count": 1,
   "metadata": {},
   "outputs": [
    {
     "name": "stdout",
     "output_type": "stream",
     "text": [
      "La media es 4.0 , y la desviación típica es 2.0\n"
     ]
    }
   ],
   "source": [
    "sample = input(\"Introduce una muestra de números separados por comas: \")\n",
    "sample = sample.split(',')\n",
    "n = len(sample)\n",
    "for i in range(n):\n",
    "    sample[i] = int(sample[i])\n",
    "sample = tuple(sample)\n",
    "sum = 0\n",
    "sumsq = 0\n",
    "for i in sample:\n",
    "    sum += i\n",
    "    sumsq += i**2\n",
    "mean = sum/n\n",
    "stdev = (sumsq/n-mean**2)**(1/2)\n",
    "print('La media es', mean, ', y la desviación típica es', stdev)"
   ]
  }
 ],
 "metadata": {
  "kernelspec": {
   "display_name": "Python 3.10.6 64-bit",
   "language": "python",
   "name": "python3"
  },
  "language_info": {
   "codemirror_mode": {
    "name": "ipython",
    "version": 3
   },
   "file_extension": ".py",
   "mimetype": "text/x-python",
   "name": "python",
   "nbconvert_exporter": "python",
   "pygments_lexer": "ipython3",
   "version": "3.10.6"
  },
  "orig_nbformat": 4,
  "vscode": {
   "interpreter": {
    "hash": "916dbcbb3f70747c44a77c7bcd40155683ae19c65e1c03b4aa3499c5328201f1"
   }
  }
 },
 "nbformat": 4,
 "nbformat_minor": 2
}
