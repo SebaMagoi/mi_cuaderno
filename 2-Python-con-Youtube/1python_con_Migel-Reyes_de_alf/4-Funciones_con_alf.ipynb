{
 "cells": [
  {
   "cell_type": "markdown",
   "metadata": {},
   "source": [
    "### Ejercicio 1"
   ]
  },
  {
   "cell_type": "markdown",
   "metadata": {},
   "source": [
    "Escribir una función que muestre por pantalla el saludo ¡Hola amiga! cada vez que se la invoque."
   ]
  },
  {
   "cell_type": "code",
   "execution_count": 8,
   "metadata": {},
   "outputs": [
    {
     "name": "stdout",
     "output_type": "stream",
     "text": [
      "¡Hola amiga!\n"
     ]
    }
   ],
   "source": [
    "def saludo():\n",
    "    print('¡Hola amiga!')\n",
    "    return\n",
    "saludo()"
   ]
  },
  {
   "cell_type": "markdown",
   "metadata": {},
   "source": [
    "### Ejercicio 2"
   ]
  },
  {
   "cell_type": "markdown",
   "metadata": {},
   "source": [
    "Escribir una función a la que se le pase una cadena 'nombre' y muestre por pantalla el saludo ¡hola 'nombre'!."
   ]
  },
  {
   "cell_type": "code",
   "execution_count": 9,
   "metadata": {},
   "outputs": [
    {
     "name": "stdout",
     "output_type": "stream",
     "text": [
      "Hola... Sebas\n"
     ]
    }
   ],
   "source": [
    "def cadena(nombre):\n",
    "\t\"\"\"Función que muestra un saludo por pantalla.\n",
    "    Parámetros\n",
    "    nombre: Nombre del usuario\n",
    "    Devuelve el saludo ¡Hola nombre!.\n",
    "    \"\"\"\n",
    "\tprint('Hola...', nombre)\n",
    "\treturn\n",
    "cadena('Sebas')"
   ]
  },
  {
   "cell_type": "markdown",
   "metadata": {},
   "source": [
    "### Ejercicio 3"
   ]
  },
  {
   "cell_type": "markdown",
   "metadata": {},
   "source": [
    "Escribir una función que reciba un número entero positivo y devuelva su factorial.\n",
    "\n",
    "    \"\"\"Función que calcula el factorial de un número entero positivo.\n",
    "    Parámetros\n",
    "    n: Es un entero positivo.\n",
    "    Devuelve el factorial de n.\n",
    "    \"\"\""
   ]
  },
  {
   "cell_type": "code",
   "execution_count": 13,
   "metadata": {},
   "outputs": [
    {
     "name": "stdout",
     "output_type": "stream",
     "text": [
      "24\n",
      "2432902008176640000\n"
     ]
    }
   ],
   "source": [
    "def factorial(n):\n",
    "    tmp = 1\n",
    "    for i in range(n):\n",
    "        tmp *= i+1\n",
    "    return tmp\n",
    "\n",
    "print(factorial(4))\n",
    "print(factorial(20))"
   ]
  },
  {
   "cell_type": "markdown",
   "metadata": {},
   "source": [
    "### Ejercicio 4"
   ]
  },
  {
   "cell_type": "markdown",
   "metadata": {},
   "source": [
    "Escribir una función que calcule el total de una factura tras aplicarle el IVA. La función debe recibir la cantidad sin IVA y el porcentaje de IVA a aplicar, y devolver el total de la factura. Si se invoca la función sin pasarle el porcentaje de IVA, deberá aplicar un 21%."
   ]
  },
  {
   "cell_type": "code",
   "execution_count": 3,
   "metadata": {},
   "outputs": [
    {
     "name": "stdout",
     "output_type": "stream",
     "text": [
      "1100.0\n",
      "1210.0\n"
     ]
    }
   ],
   "source": [
    "def invoice(amount, vat=21):\n",
    "    \"\"\"Función de aplica el IVA a una factura.\n",
    "    Parametros\n",
    "    amount: Es la cantidad sin IVA\n",
    "    vat: Es el porcentaje de IVA\n",
    "    Devuelve el total de la factura una vez aplicado el IVA. \n",
    "    \"\"\"\n",
    "    return amount + amount*vat/100\n",
    "\n",
    "print(invoice(1000,10))\n",
    "print(invoice(1000))"
   ]
  },
  {
   "cell_type": "markdown",
   "metadata": {},
   "source": [
    "### Ejercicio 5"
   ]
  },
  {
   "cell_type": "markdown",
   "metadata": {},
   "source": [
    "Escribir una función que calcule el área de un círculo y otra que calcule el volumen de un cilindro usando la primera función."
   ]
  },
  {
   "cell_type": "code",
   "execution_count": 4,
   "metadata": {},
   "outputs": [
    {
     "name": "stdout",
     "output_type": "stream",
     "text": [
      "141.3675\n"
     ]
    }
   ],
   "source": [
    "def circle_area(radius):\n",
    "    \"\"\"Función que calcula el area de un círculo.\n",
    "    Parámetros\n",
    "    radius: Es el radio del círculo.\n",
    "    Devuelve el área del círculo de radio radius. \n",
    "    \"\"\"\n",
    "    pi = 3.1415\n",
    "    return pi*radius**2\n",
    "\n",
    "def cilinder_volume(radius, high):\n",
    "    \"\"\"Función que calcula el volumen de un cilindro.\n",
    "    Parámetros\n",
    "    radius: Es el radio de la base del cilindro.\n",
    "    high: Es la altura del cilindro.\n",
    "    Devuelve el volumen del clindro de radio radius y altura high.\n",
    "    \"\"\"\n",
    "    return circle_area(radius)*high\n",
    "\n",
    "print(cilinder_volume(3,5))"
   ]
  },
  {
   "cell_type": "markdown",
   "metadata": {},
   "source": [
    "### Ejercicio 6"
   ]
  },
  {
   "cell_type": "markdown",
   "metadata": {},
   "source": [
    "Escribir una función que reciba una muestra de números en una lista y devuelva su media."
   ]
  },
  {
   "cell_type": "markdown",
   "metadata": {},
   "source": [
    "solucion1"
   ]
  },
  {
   "cell_type": "code",
   "execution_count": 5,
   "metadata": {},
   "outputs": [
    {
     "name": "stdout",
     "output_type": "stream",
     "text": [
      "3.0\n",
      "8.700000000000001\n"
     ]
    }
   ],
   "source": [
    "def mean(sample):\n",
    "    \"\"\"Función que calcula la media de una muestra de números.\n",
    "    Parámetros\n",
    "    sample: Es una lista de números\n",
    "    Devuelve la media de los números en sample. \n",
    "    \"\"\"\n",
    "    return sum(sample)/len(sample)\n",
    "\n",
    "print(mean([1, 2, 3, 4, 5]))\n",
    "print(mean([2.3, 5.7, 6.8, 9.7, 12.1, 15.6]))"
   ]
  },
  {
   "cell_type": "markdown",
   "metadata": {},
   "source": [
    "solucion2"
   ]
  },
  {
   "cell_type": "code",
   "execution_count": 6,
   "metadata": {},
   "outputs": [
    {
     "name": "stdout",
     "output_type": "stream",
     "text": [
      "3.0\n",
      "8.700000000000001\n"
     ]
    }
   ],
   "source": [
    "def mean(*sample):\n",
    "    \"\"\"Función que calcula la media de una muestra de números.\n",
    "    Parámetros\n",
    "    *sample: Secuencia de números separados por comas.\n",
    "    Devuelve la media de los números en *sample. \n",
    "    \"\"\"\n",
    "    return sum(sample)/len(sample)\n",
    "\n",
    "print(mean(1, 2, 3, 4, 5))\n",
    "print(mean(2.3, 5.7, 6.8, 9.7, 12.1, 15.6))"
   ]
  },
  {
   "cell_type": "markdown",
   "metadata": {},
   "source": [
    "### Ejercicio 7"
   ]
  },
  {
   "cell_type": "markdown",
   "metadata": {},
   "source": [
    "Escribir una función que reciba una muestra de números en una lista y devuelva otra lista con sus cuadrados."
   ]
  },
  {
   "cell_type": "markdown",
   "metadata": {},
   "source": [
    "Solucion 1"
   ]
  },
  {
   "cell_type": "code",
   "execution_count": 7,
   "metadata": {},
   "outputs": [
    {
     "name": "stdout",
     "output_type": "stream",
     "text": [
      "[1, 4, 9, 16, 25]\n",
      "[5.289999999999999, 32.49, 46.239999999999995, 94.08999999999999, 146.41, 243.35999999999999]\n"
     ]
    }
   ],
   "source": [
    "def square(sample):\n",
    "    \"\"\"Función que calcula los cuadrados de una lista de números.\n",
    "    Parámetros\n",
    "    sample: Es una lista de números\n",
    "    Devuelve una lista con los cuadrados de los números de la lista sample.\n",
    "    \"\"\"\n",
    "    list = []\n",
    "    for i in sample:\n",
    "        list.append(i**2)\n",
    "    return list\n",
    "\n",
    "print(square([1, 2, 3, 4, 5]))\n",
    "print(square([2.3, 5.7, 6.8, 9.7, 12.1, 15.6]))"
   ]
  },
  {
   "cell_type": "markdown",
   "metadata": {},
   "source": [
    "Solucion 2"
   ]
  },
  {
   "cell_type": "code",
   "execution_count": 8,
   "metadata": {},
   "outputs": [
    {
     "name": "stdout",
     "output_type": "stream",
     "text": [
      "[1, 4, 9, 16, 25]\n",
      "[5.289999999999999, 32.49, 46.239999999999995, 94.08999999999999, 146.41, 243.35999999999999]\n"
     ]
    }
   ],
   "source": [
    "def square(*sample):\n",
    "    \"\"\"Función que calcula los cuadrados de una lista de números.\n",
    "    Parámetros\n",
    "    *sample: Es una secuencia de números separados por comas.\n",
    "    Devuelve una lista con los cuadrados de los números de sample.\n",
    "    \"\"\"\n",
    "    list = []\n",
    "    for i in sample:\n",
    "        list.append(i**2)\n",
    "    return list\n",
    "\n",
    "print(square(1, 2, 3, 4, 5))\n",
    "print(square(2.3, 5.7, 6.8, 9.7, 12.1, 15.6))"
   ]
  },
  {
   "cell_type": "markdown",
   "metadata": {},
   "source": [
    "### Ejercicio 8"
   ]
  },
  {
   "cell_type": "markdown",
   "metadata": {},
   "source": [
    "Escribir una función que reciba una muestra de números en una lista y devuelva un diccionario con su media, varianza y desviación típica."
   ]
  },
  {
   "cell_type": "markdown",
   "metadata": {},
   "source": [
    "solucion1"
   ]
  },
  {
   "cell_type": "code",
   "execution_count": 9,
   "metadata": {},
   "outputs": [
    {
     "name": "stdout",
     "output_type": "stream",
     "text": [
      "{'media': 3.0, 'varianza': 2.0, 'desviacion tipica': 1.4142135623730951}\n",
      "{'media': 8.700000000000001, 'varianza': 18.95666666666665, 'desviacion tipica': 4.353925431913901}\n"
     ]
    }
   ],
   "source": [
    "def square(sample):\n",
    "    \"\"\"Función que calcula los cuadrados de una lista de números.\n",
    "    Parámetros\n",
    "    sample: Es una lista de números\n",
    "    Devuelve una lista con los cuadrados de los números de la lista sample.\n",
    "    \"\"\"\n",
    "    list = []\n",
    "    for i in sample:\n",
    "        list.append(i**2)\n",
    "    return list\n",
    "\n",
    "def statistics(sample):\n",
    "    \"\"\"Función que calcula la media, varianza y desviación típica de una muestra de números.\n",
    "    Parámetros\n",
    "    sample: Es una lista de números\n",
    "    Devuelve un diccionario con la media, varianza y desviación típica de los números en sample.\n",
    "    \"\"\"\n",
    "    stat = {}\n",
    "    stat['media'] = sum(sample)/len(sample)\n",
    "    stat['varianza'] = sum(square(sample))/len(sample)-stat['media']**2\n",
    "    stat['desviacion tipica'] = stat['varianza']**0.5\n",
    "    return stat\n",
    "\n",
    "print(statistics([1, 2, 3, 4, 5]))\n",
    "print(statistics([2.3, 5.7, 6.8, 9.7, 12.1, 15.6]))"
   ]
  },
  {
   "cell_type": "markdown",
   "metadata": {},
   "source": [
    "solucion2"
   ]
  },
  {
   "cell_type": "code",
   "execution_count": 10,
   "metadata": {},
   "outputs": [
    {
     "name": "stdout",
     "output_type": "stream",
     "text": [
      "{'media': 3.0, 'varianza': 2.0, 'desviacion tipica': 1.4142135623730951}\n",
      "{'media': 8.700000000000001, 'varianza': 18.95666666666665, 'desviacion tipica': 4.353925431913901}\n"
     ]
    }
   ],
   "source": [
    "def square(*sample):\n",
    "    \"\"\"Función que calcula los cuadrados de una lista de números.\n",
    "    Parámetros\n",
    "    sample: Es una secuencia de números separados por comas.\n",
    "    Devuelve una lista con los cuadrados de los números de sample.\n",
    "    \"\"\"\n",
    "    list = []\n",
    "    for i in sample:\n",
    "        list.append(i**2)\n",
    "    return list\n",
    "\n",
    "def statistics(*sample):\n",
    "    \"\"\"Función que calcula la media, varianza y desviación típica de una muestra de números.\n",
    "    Parámetros\n",
    "    sample: Es una secuencia de números separados por comas.\n",
    "    Devuelve un diccionario con la media, varianza y desviación típica de los números en sample.\n",
    "    \"\"\"\n",
    "    stat = {}\n",
    "    stat['media'] = sum(sample)/len(sample)\n",
    "    stat['varianza'] = sum(square(*sample))/len(sample)-stat['media']**2\n",
    "    stat['desviacion tipica'] = stat['varianza']**0.5\n",
    "    return stat\n",
    "\n",
    "print(statistics(1, 2, 3, 4, 5))\n",
    "print(statistics(2.3, 5.7, 6.8, 9.7, 12.1, 15.6))"
   ]
  },
  {
   "cell_type": "markdown",
   "metadata": {},
   "source": [
    "###  Ejercicio 9"
   ]
  },
  {
   "cell_type": "markdown",
   "metadata": {},
   "source": [
    "Escribir una función que calcule el máximo común divisor de dos números y otra que calcule el mínimo común múltiplo."
   ]
  },
  {
   "cell_type": "code",
   "execution_count": 11,
   "metadata": {},
   "outputs": [
    {
     "name": "stdout",
     "output_type": "stream",
     "text": [
      "12\n",
      "72\n"
     ]
    }
   ],
   "source": [
    "def mcd(n, m):\n",
    "    \"\"\"Función que calcula el máximo común divisor de dos números.\n",
    "    Parámetros:\n",
    "        - n: Es un número entero.\n",
    "        - m: Es un número entero.\n",
    "    Devuelve:\n",
    "        El máximo común divisor de n y m.\n",
    "    \"\"\"\n",
    "    rest = 0\n",
    "    while(m > 0):\n",
    "        rest = m\n",
    "        m = n % m\n",
    "        n = rest\n",
    "    return n\n",
    "\n",
    "def mcm(n, m):\n",
    "    \"\"\"Función que calcula el mínimo común múltiplo de dos números.\n",
    "    Parámetros:\n",
    "        - n: Es un número entero.\n",
    "        - m: Es un número entero.\n",
    "    Devuelve:\n",
    "        El mínimo común múltiplo de n y m.\n",
    "    \"\"\"\n",
    "    if n > m:\n",
    "        greater = n\n",
    "    else:\n",
    "        greater = m\n",
    "    while (greater % n != 0) or (greater % m != 0):\n",
    "        greater += 1\n",
    "    return greater\n",
    "\n",
    "print(mcd(24,36))\n",
    "print(mcm(24,36))"
   ]
  },
  {
   "cell_type": "markdown",
   "metadata": {},
   "source": [
    "### Ejercicio 10"
   ]
  },
  {
   "cell_type": "markdown",
   "metadata": {},
   "source": [
    "Escribir una función que convierta un número decimal en binario y otra que convierta un número binario en decimal."
   ]
  },
  {
   "cell_type": "code",
   "execution_count": 12,
   "metadata": {},
   "outputs": [
    {
     "name": "stdout",
     "output_type": "stream",
     "text": [
      "22\n",
      "10110\n",
      "22\n",
      "10110\n"
     ]
    }
   ],
   "source": [
    "def to_decimal(n):\n",
    "    \"\"\"Función que convierte un número binario en decimal.\n",
    "    Parámetros:\n",
    "        - n: Es una cadena de ceros y unos.\n",
    "    Devuelve:\n",
    "        El número decimal correspondiente a n.\n",
    "    \"\"\"\n",
    "    n = list(n)\n",
    "    n.reverse()\n",
    "    decimal = 0\n",
    "    for i in range(len(n)):\n",
    "        decimal += int(n[i]) * 2 ** i\n",
    "    return decimal\n",
    "\n",
    "def to_binary(n):\n",
    "    \"\"\"Función que convierte un número decimal en binario.\n",
    "    Parámetros:\n",
    "        - n: Es un número entero.\n",
    "    Devuelve:\n",
    "        El número binario correspondiente a n.\n",
    "    \"\"\"\n",
    "    binary = []\n",
    "    while n > 0:\n",
    "        binary.append(str(n % 2))\n",
    "        n //= 2\n",
    "    binary.reverse()\n",
    "    return ''.join(binary)\n",
    "\n",
    "print(to_decimal('10110'))\n",
    "print(to_binary(22))\n",
    "print(to_decimal(to_binary(22)))\n",
    "print(to_binary(to_decimal('10110')))"
   ]
  },
  {
   "cell_type": "markdown",
   "metadata": {},
   "source": [
    "### Ejercicio 11"
   ]
  },
  {
   "cell_type": "markdown",
   "metadata": {},
   "source": [
    "Escribir un programa que reciba una cadena de caracteres y devuelva un diccionario con cada palabra que contiene y su frecuencia. Escribir otra función que reciba el diccionario generado con la función anterior y devuelva una tupla con la palabra más repetida y su frecuencia."
   ]
  },
  {
   "cell_type": "code",
   "execution_count": 13,
   "metadata": {},
   "outputs": [
    {
     "name": "stdout",
     "output_type": "stream",
     "text": [
      "{'Como': 1, 'quieres': 1, 'que': 4, 'te': 1, 'quiera': 3, 'si': 1, 'el': 1, 'quiero': 2, 'me': 3, 'no': 1, 'quiere': 1, 'como': 1}\n",
      "('que', 4)\n"
     ]
    }
   ],
   "source": [
    "def count_words(text):\n",
    "    \"\"\"Función que cuenta el número de veces que aparece cada palabra en un texto.\n",
    "    Parámetros:\n",
    "        - text: Es una cadena de caracteres.\n",
    "    Devuelve: \n",
    "        Un diccionario con pares palabra:frecuencia con las palabras contenidas en el texto y su frecuencia.\n",
    "    \"\"\"\n",
    "    text = text.split()\n",
    "    words = {}\n",
    "    for i in text:\n",
    "        if i in words:\n",
    "            words[i] += 1\n",
    "        else:\n",
    "            words[i] = 1\n",
    "    return words\n",
    "\n",
    "def most_repeated(words):\n",
    "    max_word = ''\n",
    "    max_freq = 0\n",
    "    for word, freq in words.items():\n",
    "        if freq > max_freq:\n",
    "            max_word = word\n",
    "            max_freq = freq\n",
    "    return max_word, max_freq\n",
    "\n",
    "text = 'Como quieres que te quiera si el que quiero que me quiera no me quiere como quiero que me quiera'\n",
    "print(count_words(text))\n",
    "print(most_repeated(count_words(text)))"
   ]
  }
 ],
 "metadata": {
  "kernelspec": {
   "display_name": "Python 3.10.4 64-bit",
   "language": "python",
   "name": "python3"
  },
  "language_info": {
   "codemirror_mode": {
    "name": "ipython",
    "version": 3
   },
   "file_extension": ".py",
   "mimetype": "text/x-python",
   "name": "python",
   "nbconvert_exporter": "python",
   "pygments_lexer": "ipython3",
   "version": "3.10.6"
  },
  "orig_nbformat": 4,
  "vscode": {
   "interpreter": {
    "hash": "916dbcbb3f70747c44a77c7bcd40155683ae19c65e1c03b4aa3499c5328201f1"
   }
  }
 },
 "nbformat": 4,
 "nbformat_minor": 2
}
