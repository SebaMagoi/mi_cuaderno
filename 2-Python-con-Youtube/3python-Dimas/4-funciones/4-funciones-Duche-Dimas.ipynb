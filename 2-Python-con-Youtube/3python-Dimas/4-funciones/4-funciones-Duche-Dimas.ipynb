{
 "cells": [
  {
   "cell_type": "markdown",
   "metadata": {},
   "source": [
    "#### Capítulo 4: Funciones\n"
   ]
  },
  {
   "cell_type": "markdown",
   "metadata": {},
   "source": [
    "#### Definición de las funciones"
   ]
  },
  {
   "cell_type": "code",
   "execution_count": 2,
   "metadata": {},
   "outputs": [
    {
     "name": "stdout",
     "output_type": "stream",
     "text": [
      "Hola que tal?!\n"
     ]
    }
   ],
   "source": [
    "def saludar():\n",
    "\tprint('Hola que tal?!')\n",
    "saludar()"
   ]
  },
  {
   "cell_type": "markdown",
   "metadata": {},
   "source": [
    "#### Funciones con argumentos"
   ]
  },
  {
   "cell_type": "code",
   "execution_count": 5,
   "metadata": {},
   "outputs": [
    {
     "name": "stdout",
     "output_type": "stream",
     "text": [
      "Hola Sebas que tal?\n",
      "Hola Sophy que tal?\n"
     ]
    }
   ],
   "source": [
    "def saludar2(nombre):\n",
    "\tprint(f'Hola {nombre} que tal?')\n",
    "saludar2('Sebas')\n",
    "saludar2('Sophy')"
   ]
  },
  {
   "cell_type": "markdown",
   "metadata": {},
   "source": [
    "#### Funciones que retornan un resultado\n"
   ]
  },
  {
   "cell_type": "code",
   "execution_count": 8,
   "metadata": {},
   "outputs": [
    {
     "data": {
      "text/plain": [
       "33"
      ]
     },
     "execution_count": 8,
     "metadata": {},
     "output_type": "execute_result"
    }
   ],
   "source": [
    "def suma(a,b):\n",
    "\tresultado = a + b\n",
    "\treturn resultado\n",
    "suma(11, 22)"
   ]
  },
  {
   "cell_type": "markdown",
   "metadata": {},
   "source": [
    "Esto da error porque estoy llamando una varable local fuera de la funcion"
   ]
  },
  {
   "cell_type": "code",
   "execution_count": 10,
   "metadata": {},
   "outputs": [
    {
     "ename": "NameError",
     "evalue": "name 'resultado' is not defined",
     "output_type": "error",
     "traceback": [
      "\u001b[0;31m---------------------------------------------------------------------------\u001b[0m",
      "\u001b[0;31mNameError\u001b[0m                                 Traceback (most recent call last)",
      "Cell \u001b[0;32mIn [10], line 5\u001b[0m\n\u001b[1;32m      3\u001b[0m \t\u001b[38;5;28;01mreturn\u001b[39;00m resultado\n\u001b[1;32m      4\u001b[0m suma(\u001b[38;5;241m11\u001b[39m, \u001b[38;5;241m22\u001b[39m)\n\u001b[0;32m----> 5\u001b[0m suma(resultado)\n",
      "\u001b[0;31mNameError\u001b[0m: name 'resultado' is not defined"
     ]
    }
   ],
   "source": [
    "def suma(a,b):\n",
    "\tresultado = a + b\n",
    "\treturn resultado\n",
    "suma(11, 22)\n",
    "suma(resultado)"
   ]
  },
  {
   "cell_type": "markdown",
   "metadata": {},
   "source": [
    "Lo que si puedo hacer es asignale una variable al valor de salida de la funcion y a la nueva variable si la puedo usar fuera de la funcion y de hecho mandarla imprimir"
   ]
  },
  {
   "cell_type": "code",
   "execution_count": 11,
   "metadata": {},
   "outputs": [
    {
     "name": "stdout",
     "output_type": "stream",
     "text": [
      "33\n"
     ]
    }
   ],
   "source": [
    "def suma(a,b):\n",
    "\tresultado = a + b\n",
    "\treturn resultado\n",
    "valor = suma(11, 22)\n",
    "print(valor)\n"
   ]
  },
  {
   "cell_type": "code",
   "execution_count": 12,
   "metadata": {},
   "outputs": [
    {
     "data": {
      "text/plain": [
       "33"
      ]
     },
     "execution_count": 12,
     "metadata": {},
     "output_type": "execute_result"
    }
   ],
   "source": [
    "def sumaDos(a,b):\n",
    "\treturn a + b\n",
    "\n",
    "valor = sumaDos(11,22)\n",
    "valor"
   ]
  },
  {
   "cell_type": "markdown",
   "metadata": {},
   "source": [
    "#### Funciones con argumentos por defecto\n"
   ]
  },
  {
   "cell_type": "code",
   "execution_count": 1,
   "metadata": {},
   "outputs": [
    {
     "name": "stdout",
     "output_type": "stream",
     "text": [
      "Hola Magoi que tal?\n"
     ]
    }
   ],
   "source": [
    "def saludarPorDefecto(nombre='Magoi'):\n",
    "\tprint('Hola ' + nombre + ' que tal?')\n",
    "\n",
    "saludarPorDefecto()\n"
   ]
  },
  {
   "cell_type": "code",
   "execution_count": 2,
   "metadata": {},
   "outputs": [
    {
     "name": "stdout",
     "output_type": "stream",
     "text": [
      "Hola Sophia que tal?\n"
     ]
    }
   ],
   "source": [
    "def saludarPorDefecto(nombre='Magoi'):\n",
    "\tprint('Hola ' + nombre + ' que tal?')\n",
    "\n",
    "saludarPorDefecto('Sophia')"
   ]
  },
  {
   "cell_type": "markdown",
   "metadata": {},
   "source": [
    "#### Funciones quee retornan varios valores"
   ]
  },
  {
   "cell_type": "code",
   "execution_count": 6,
   "metadata": {},
   "outputs": [
    {
     "name": "stdout",
     "output_type": "stream",
     "text": [
      "Los resultados son: \n",
      "Suma: 15\n",
      "Resta: 5\n"
     ]
    }
   ],
   "source": [
    "def suma_y_resta(a,b):\n",
    "\tsuma = a + b\n",
    "\tresta = a - b\n",
    "\treturn suma, resta\n",
    "resultado1, resultado2 = suma_y_resta(10, 5)\n",
    "print(\"Los resultados son: \\nSuma: \" + str(resultado1) + \"\\nResta: \" + str(resultado2))"
   ]
  },
  {
   "cell_type": "markdown",
   "metadata": {},
   "source": [
    "#### EJERCICIO 1: \n",
    "\n",
    "Función máximo -> Dados dos números, la función debe encontrar cuál de los dos es el más grande y retornarlo.Extra: Se deben comprobar que los argumentos de la función sean\n",
    "de tipo int o float. Si alguno de los dos no lo es, mostrar un mensaje de error y retornar False."
   ]
  },
  {
   "cell_type": "code",
   "execution_count": null,
   "metadata": {},
   "outputs": [],
   "source": [
    "minuto 37:10"
   ]
  },
  {
   "cell_type": "markdown",
   "metadata": {},
   "source": [
    "#### EJERCICIO 2: \n",
    "\n",
    "Mini calculadora. Pedirle al usuario una operación y dos números. \n",
    "Las operaciones pueden ser suma, resta, potencia. Si introduce una operación diferente a estas, mostrar un mensaje de error. Si la operación es correcta, mostrar el resultado."
   ]
  }
 ],
 "metadata": {
  "kernelspec": {
   "display_name": "Python 3.10.6 ('venv': venv)",
   "language": "python",
   "name": "python3"
  },
  "language_info": {
   "codemirror_mode": {
    "name": "ipython",
    "version": 3
   },
   "file_extension": ".py",
   "mimetype": "text/x-python",
   "name": "python",
   "nbconvert_exporter": "python",
   "pygments_lexer": "ipython3",
   "version": "3.10.6"
  },
  "orig_nbformat": 4,
  "vscode": {
   "interpreter": {
    "hash": "11f841f1e90987dece1b39bddc92ea528cdddf055a00de0d1533d654794a3615"
   }
  }
 },
 "nbformat": 4,
 "nbformat_minor": 2
}
